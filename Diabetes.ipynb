{
  "nbformat": 4,
  "nbformat_minor": 0,
  "metadata": {
    "colab": {
      "provenance": [],
      "mount_file_id": "1vyLnix47QToLCTe_fsFd0drp0Iu1ry1n",
      "authorship_tag": "ABX9TyPnf/7+tZouNPxXrPDSLVtf",
      "include_colab_link": true
    },
    "kernelspec": {
      "name": "python3",
      "display_name": "Python 3"
    },
    "language_info": {
      "name": "python"
    }
  },
  "cells": [
    {
      "cell_type": "markdown",
      "metadata": {
        "id": "view-in-github",
        "colab_type": "text"
      },
      "source": [
        "<a href=\"https://colab.research.google.com/github/shambhavi1708/disease-detection-system/blob/main/Diabetes.ipynb\" target=\"_parent\"><img src=\"https://colab.research.google.com/assets/colab-badge.svg\" alt=\"Open In Colab\"/></a>"
      ]
    },
    {
      "cell_type": "code",
      "execution_count": 1,
      "metadata": {
        "id": "9M2ZnOaZSqTC",
        "colab": {
          "base_uri": "https://localhost:8080/",
          "height": 384
        },
        "outputId": "9285458a-8e4d-4f6d-d177-0eef970e033b"
      },
      "outputs": [
        {
          "output_type": "error",
          "ename": "ModuleNotFoundError",
          "evalue": "No module named 'streamlit'",
          "traceback": [
            "\u001b[0;31m---------------------------------------------------------------------------\u001b[0m",
            "\u001b[0;31mModuleNotFoundError\u001b[0m                       Traceback (most recent call last)",
            "\u001b[0;32m<ipython-input-1-b8d52ad11a1c>\u001b[0m in \u001b[0;36m<cell line: 0>\u001b[0;34m()\u001b[0m\n\u001b[1;32m      1\u001b[0m \u001b[0;32mimport\u001b[0m \u001b[0mpandas\u001b[0m \u001b[0;32mas\u001b[0m \u001b[0mpd\u001b[0m\u001b[0;34m\u001b[0m\u001b[0;34m\u001b[0m\u001b[0m\n\u001b[0;32m----> 2\u001b[0;31m \u001b[0;32mimport\u001b[0m \u001b[0mstreamlit\u001b[0m \u001b[0;32mas\u001b[0m \u001b[0mst\u001b[0m\u001b[0;34m\u001b[0m\u001b[0;34m\u001b[0m\u001b[0m\n\u001b[0m\u001b[1;32m      3\u001b[0m \u001b[0;32mimport\u001b[0m \u001b[0mmatplotlib\u001b[0m\u001b[0;34m.\u001b[0m\u001b[0mpyplot\u001b[0m \u001b[0;32mas\u001b[0m \u001b[0mplt\u001b[0m\u001b[0;34m\u001b[0m\u001b[0;34m\u001b[0m\u001b[0m\n\u001b[1;32m      4\u001b[0m \u001b[0;32mfrom\u001b[0m \u001b[0msklearn\u001b[0m\u001b[0;34m.\u001b[0m\u001b[0mensemble\u001b[0m \u001b[0;32mimport\u001b[0m \u001b[0mRandomForestClassifier\u001b[0m\u001b[0;34m\u001b[0m\u001b[0;34m\u001b[0m\u001b[0m\n\u001b[1;32m      5\u001b[0m \u001b[0;32mfrom\u001b[0m \u001b[0msklearn\u001b[0m\u001b[0;34m.\u001b[0m\u001b[0mmodel_selection\u001b[0m \u001b[0;32mimport\u001b[0m \u001b[0mtrain_test_split\u001b[0m\u001b[0;34m\u001b[0m\u001b[0;34m\u001b[0m\u001b[0m\n",
            "\u001b[0;31mModuleNotFoundError\u001b[0m: No module named 'streamlit'",
            "",
            "\u001b[0;31m---------------------------------------------------------------------------\u001b[0;32m\nNOTE: If your import is failing due to a missing package, you can\nmanually install dependencies using either !pip or !apt.\n\nTo view examples of installing some common dependencies, click the\n\"Open Examples\" button below.\n\u001b[0;31m---------------------------------------------------------------------------\u001b[0m\n"
          ],
          "errorDetails": {
            "actions": [
              {
                "action": "open_url",
                "actionText": "Open Examples",
                "url": "/notebooks/snippets/importing_libraries.ipynb"
              }
            ]
          }
        }
      ],
      "source": [
        "import pandas as pd\n",
        "import streamlit as st\n",
        "import matplotlib.pyplot as plt\n",
        "from sklearn.ensemble import RandomForestClassifier\n",
        "from sklearn.model_selection import train_test_split\n",
        "from sklearn.metrics import accuracy_score"
      ]
    },
    {
      "cell_type": "code",
      "source": [
        "st.set_page_config(page_title=\"Diabetes Checkup\")\n",
        "df = pd.read_csv('/content/diabetes.csv')\n",
        "x = df.drop(['Outcome'], axis=1)\n",
        "y = df.iloc[:, -1]\n",
        "x_train, x_test, y_train, y_test = train_test_split(x, y, test_size=0.2, random_state=0)\n",
        "\n"
      ],
      "metadata": {
        "collapsed": true,
        "id": "QDjuCNsITMta"
      },
      "execution_count": null,
      "outputs": []
    },
    {
      "cell_type": "code",
      "source": [
        "rf = RandomForestClassifier()\n",
        "rf.fit(x_train, y_train)"
      ],
      "metadata": {
        "id": "B8yo0dVfTQ-K"
      },
      "execution_count": null,
      "outputs": []
    },
    {
      "cell_type": "code",
      "source": [
        "st.title('Diabetes Checkup')\n",
        "st.sidebar.header('Patient Data')"
      ],
      "metadata": {
        "id": "_ipIoV1xTrlR"
      },
      "execution_count": null,
      "outputs": []
    },
    {
      "cell_type": "code",
      "source": [
        "def user_report():\n",
        "    pregnancies = st.sidebar.number_input('Pregnancies', min_value=0, max_value=20, value=3, step=1)\n",
        "    glucose = st.sidebar.number_input('Glucose (mg/dL)', min_value=0, max_value=600, value=120, step=1)\n",
        "    if glucose > 400:\n",
        "        st.sidebar.warning(\"Glucose values above 400 mg/dL indicate a medical emergency\")\n",
        "\n",
        "    bp = st.sidebar.number_input('Blood Pressure (mmHg)', min_value=0, max_value=250, value=70, step=1)\n",
        "    if bp > 180:\n",
        "        st.sidebar.warning(\"Blood pressure above 180 mmHg indicates hypertensive crisis\")\n",
        "\n",
        "    skinthickness = st.sidebar.number_input('Skin Thickness (mm)', min_value=0, max_value=100, value=20, step=1)\n",
        "    insulin = st.sidebar.number_input('Insulin (μU/mL)', min_value=0, max_value=1200, value=79, step=1)\n",
        "\n",
        "    bmi = st.sidebar.number_input('BMI (kg/m²)', min_value=0, max_value=80, value=20, step=1)\n",
        "    if bmi > 50:\n",
        "        st.sidebar.warning(\"BMI values above 50 indicate extreme obesity with severe health risks\")\n",
        "\n",
        "    dpf = st.sidebar.number_input('Diabetes Pedigree Function', min_value=0.0, max_value=3.0, value=0.47, step=0.01)\n",
        "    age = st.sidebar.number_input('Age (years)', min_value=0, max_value=100, value=33, step=1)"
      ],
      "metadata": {
        "id": "eJ_s08mbTroS"
      },
      "execution_count": null,
      "outputs": []
    },
    {
      "cell_type": "code",
      "source": [
        "user_report = {\n",
        "        'Pregnancies': pregnancies,\n",
        "        'Glucose': glucose,\n",
        "        'BloodPressure': bp,\n",
        "        'SkinThickness': skinthickness,\n",
        "        'Insulin': insulin,\n",
        "        'BMI': bmi,\n",
        "        'DiabetesPedigreeFunction': dpf,\n",
        "        'Age': age\n",
        "    }\n",
        "    return pd.DataFrame(user_report, index=[0])"
      ],
      "metadata": {
        "id": "CI_ereIgTrsa",
        "colab": {
          "base_uri": "https://localhost:8080/",
          "height": 106
        },
        "outputId": "36c38888-2785-443b-d90d-6fd87ca516fa"
      },
      "execution_count": 2,
      "outputs": [
        {
          "output_type": "error",
          "ename": "IndentationError",
          "evalue": "unexpected indent (<ipython-input-2-7449b854c0b5>, line 11)",
          "traceback": [
            "\u001b[0;36m  File \u001b[0;32m\"<ipython-input-2-7449b854c0b5>\"\u001b[0;36m, line \u001b[0;32m11\u001b[0m\n\u001b[0;31m    return pd.DataFrame(user_report, index=[0])\u001b[0m\n\u001b[0m    ^\u001b[0m\n\u001b[0;31mIndentationError\u001b[0m\u001b[0;31m:\u001b[0m unexpected indent\n"
          ]
        }
      ]
    },
    {
      "cell_type": "code",
      "source": [
        "user_data = user_report()"
      ],
      "metadata": {
        "id": "eq_HKEpMTrv5"
      },
      "execution_count": null,
      "outputs": []
    },
    {
      "cell_type": "code",
      "source": [
        "st.subheader('Patient Data')\n",
        "st.write(user_data)"
      ],
      "metadata": {
        "id": "dupHOTj1WZgG"
      },
      "execution_count": null,
      "outputs": []
    },
    {
      "cell_type": "code",
      "source": [
        "st.subheader('Patient Data Visualization')\n",
        "user_data_transposed = user_data.T\n",
        "st.bar_chart(user_data_transposed)"
      ],
      "metadata": {
        "id": "LCM0LIi9WzJM"
      },
      "execution_count": null,
      "outputs": []
    },
    {
      "cell_type": "code",
      "source": [
        "normal_ranges = {\n",
        "    'Glucose': \"Normal: 70-99 mg/dL\\n\\nPrediabetes: 100-125 mg/dL\\n\\nDiabetes: ≥126 mg/dL\\n\\nSevere: >400 mg/dL\",\n",
        "    'BloodPressure': \"Normal: <120 mmHg\\n\\nElevated: 120-129 mmHg\\n\\nStage 1: 130-139 mmHg\\n\\nStage 2: ≥140 mmHg\\n\\nCrisis: >180 mmHg\",\n",
        "    'SkinThickness': \"Males: 8-14 mm\\n\\nFemales: 11-22 mm\",\n",
        "    'Insulin': \"Normal: 3-25 μU/mL\\n\\nInsulin Resistance: >30 μU/mL\\n\\nExtreme: >300 μU/mL\",\n",
        "    'BMI': \"Normal: 18.5-24.9 kg/m²\\n\\nOverweight: 25-29.9 kg/m²\\n\\nObesity: 30-39.9 kg/m²\\n\\nSevere: ≥40 kg/m²\",\n",
        "    'DiabetesPedigreeFunction': \"Low Risk: <0.5\\n\\nModerate Risk: 0.5-1.0\\n\\nHigh Risk: >1.0\",\n",
        "    'Age': \"Risk increases after age 45\"\n",
        "}"
      ],
      "metadata": {
        "id": "ycAOIUMlW4wN"
      },
      "execution_count": null,
      "outputs": []
    },
    {
      "cell_type": "code",
      "source": [
        "def clinical_assessment(data):\n",
        "    assessment = {}\n",
        "\n",
        "    glucose_value = data['Glucose'][0]\n",
        "    glucose_assessment = []\n",
        "    if glucose_value < 100:\n",
        "        glucose_assessment.append(\"Normal: 70-99 mg/dL\")\n",
        "    if 100 <= glucose_value < 126:\n",
        "        glucose_assessment.append(\"Prediabetes: 100-125 mg/dL\")\n",
        "    if glucose_value >= 126:\n",
        "        glucose_assessment.append(\"Diabetes: ≥126 mg/dL\")\n",
        "    if glucose_value > 400:\n",
        "        glucose_assessment.append(\"Severe hyperglycemia - Medical emergency\")\n",
        "    assessment['Glucose'] = \"\\n\".join(glucose_assessment)\n",
        "\n",
        "    bp_value = data['BloodPressure'][0]\n",
        "    bp_assessment = []\n",
        "    if bp_value < 120:\n",
        "        bp_assessment.append(\"Normal\")\n",
        "    if 120 <= bp_value < 130:\n",
        "        bp_assessment.append(\"Elevated\")\n",
        "    if 130 <= bp_value < 140:\n",
        "        bp_assessment.append(\"Hypertension Stage 1\")\n",
        "    if 140 <= bp_value < 180:\n",
        "        bp_assessment.append(\"Hypertension Stage 2\")\n",
        "    if bp_value >= 180:\n",
        "        bp_assessment.append(\"Hypertensive Crisis - Medical emergency\")\n",
        "    assessment['BloodPressure'] = \"\\n\".join(bp_assessment)\n",
        "\n",
        "    bmi_value = data['BMI'][0]\n",
        "    bmi_assessment = []\n",
        "    if bmi_value < 18.5:\n",
        "        bmi_assessment.append(\"Underweight\")\n",
        "    if 18.5 <= bmi_value < 25:\n",
        "        bmi_assessment.append(\"Normal weight\")\n",
        "    if 25 <= bmi_value < 30:\n",
        "        bmi_assessment.append(\"Overweight\")\n",
        "    if 30 <= bmi_value < 35:\n",
        "        bmi_assessment.append(\"Obesity Class I\")\n",
        "    if 35 <= bmi_value < 40:\n",
        "        bmi_assessment.append(\"Obesity Class II\")\n",
        "    if 40 <= bmi_value < 50:\n",
        "        bmi_assessment.append(\"Obesity Class III (Severe)\")\n",
        "    if bmi_value >= 50:\n",
        "        bmi_assessment.append(\"Super obesity - Extreme health risk\")\n",
        "    assessment['BMI'] = \"\\n\".join(bmi_assessment)\n",
        "\n",
        "    return assessment\n",
        "\n"
      ],
      "metadata": {
        "id": "W-XjXE79W66O"
      },
      "execution_count": null,
      "outputs": []
    },
    {
      "cell_type": "code",
      "source": [
        "st.subheader('Clinical Assessment')\n",
        "assessment = clinical_assessment(user_data)\n",
        "for param, status in assessment.items():\n",
        "    st.write(f\"**{param}**:\\n{status}\")"
      ],
      "metadata": {
        "id": "0psaIdV1XJpN"
      },
      "execution_count": null,
      "outputs": []
    },
    {
      "cell_type": "code",
      "source": [
        "user_result = rf.predict(user_data)"
      ],
      "metadata": {
        "id": "ASJGMaAlXJsK"
      },
      "execution_count": null,
      "outputs": []
    },
    {
      "cell_type": "code",
      "source": [
        "st.subheader('Report: ')\n",
        "output = 'Diabetic' if user_result[0] == 1 else 'Not Diabetic'\n",
        "st.title(output)"
      ],
      "metadata": {
        "id": "N50gMsZxXJvD"
      },
      "execution_count": null,
      "outputs": []
    },
    {
      "cell_type": "code",
      "source": [
        "st.subheader('Accuracy: ')\n",
        "st.write(f\"{accuracy_score(y_test, rf.predict(x_test)) * 100:.2f}%\")"
      ],
      "metadata": {
        "id": "scSiLxIYXJxz"
      },
      "execution_count": null,
      "outputs": []
    },
    {
      "cell_type": "code",
      "source": [
        "st.markdown(\"---\")\n",
        "st.markdown(\"## Clinical Reference Ranges\")\n",
        "for param, range_value in normal_ranges.items():\n",
        "    st.markdown(f\"#### {param}\")\n",
        "    st.write(range_value)"
      ],
      "metadata": {
        "id": "XpQfqCvoXJ0g"
      },
      "execution_count": null,
      "outputs": []
    },
    {
      "cell_type": "code",
      "source": [
        "st.markdown(\"---\")\n",
        "st.warning(\"**Medical Disclaimer**: This tool provides an estimate based on statistical models and should not replace professional medical advice. Always consult with a healthcare provider for proper diagnosis and treatment.\")\n"
      ],
      "metadata": {
        "id": "FyyopQx-Xoe9"
      },
      "execution_count": null,
      "outputs": []
    },
    {
      "cell_type": "code",
      "source": [],
      "metadata": {
        "id": "tZU_dPaSZMbO"
      },
      "execution_count": null,
      "outputs": []
    }
  ]
}