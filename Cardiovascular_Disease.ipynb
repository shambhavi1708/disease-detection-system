{
  "nbformat": 4,
  "nbformat_minor": 0,
  "metadata": {
    "colab": {
      "provenance": [],
      "authorship_tag": "ABX9TyP+uVRNPMVr6GIcRF5P25DS",
      "include_colab_link": true
    },
    "kernelspec": {
      "name": "python3",
      "display_name": "Python 3"
    },
    "language_info": {
      "name": "python"
    }
  },
  "cells": [
    {
      "cell_type": "markdown",
      "metadata": {
        "id": "view-in-github",
        "colab_type": "text"
      },
      "source": [
        "<a href=\"https://colab.research.google.com/github/shambhavi1708/disease-detection-system/blob/main/Cardiovascular_Disease.ipynb\" target=\"_parent\"><img src=\"https://colab.research.google.com/assets/colab-badge.svg\" alt=\"Open In Colab\"/></a>"
      ]
    },
    {
      "cell_type": "code",
      "execution_count": null,
      "metadata": {
        "id": "7cI7d_kaXc2M"
      },
      "outputs": [],
      "source": [
        "import pandas as pd\n",
        "import streamlit as st\n",
        "import numpy as np\n",
        "import matplotlib.pyplot as plt\n",
        "from sklearn.ensemble import RandomForestClassifier\n",
        "from sklearn.model_selection import train_test_split\n",
        "from sklearn.metrics import accuracy_score"
      ]
    },
    {
      "cell_type": "code",
      "source": [
        "st.set_page_config(page_title=\"Cardiovascular Disease Checkup\")"
      ],
      "metadata": {
        "id": "Ld8Gcm7lXlD8"
      },
      "execution_count": null,
      "outputs": []
    },
    {
      "cell_type": "code",
      "source": [
        "df = pd.read_csv(r'/content/heart_disease_data.csv')"
      ],
      "metadata": {
        "id": "WKpTUVi-XlGL"
      },
      "execution_count": null,
      "outputs": []
    },
    {
      "cell_type": "code",
      "source": [
        "df = pd.DataFrame({\n",
        "        'age': np.random.randint(29, 80, 100),\n",
        "        'sex': np.random.randint(0, 2, 100),\n",
        "        'cp': np.random.randint(0, 4, 100),\n",
        "        'trestbps': np.random.randint(94, 200, 100),\n",
        "        'chol': np.random.randint(126, 564, 100),\n",
        "        'fbs': np.random.randint(0, 2, 100),\n",
        "        'restecg': np.random.randint(0, 3, 100),\n",
        "        'thalach': np.random.randint(71, 202, 100),\n",
        "        'exang': np.random.randint(0, 2, 100),\n",
        "        'oldpeak': np.random.uniform(0, 6.2, 100),\n",
        "        'slope': np.random.randint(0, 3, 100),\n",
        "        'ca': np.random.randint(0, 5, 100),\n",
        "        'thal': np.random.randint(0, 4, 100),\n",
        "        'target': np.random.randint(0, 2, 100)\n",
        "    })"
      ],
      "metadata": {
        "id": "E2UONZfXXlIv"
      },
      "execution_count": null,
      "outputs": []
    },
    {
      "cell_type": "code",
      "source": [
        "x = df.drop(['target'], axis=1)\n",
        "y = df['target']\n",
        "x_train, x_test, y_train, y_test = train_test_split(x, y, test_size=0.2, random_state=0)"
      ],
      "metadata": {
        "id": "SNs-wBYbXlLg"
      },
      "execution_count": null,
      "outputs": []
    },
    {
      "cell_type": "code",
      "source": [
        "rf = RandomForestClassifier()\n",
        "rf.fit(x_train, y_train)"
      ],
      "metadata": {
        "id": "nT8D0RmsXlOC"
      },
      "execution_count": null,
      "outputs": []
    },
    {
      "cell_type": "code",
      "source": [
        "st.title('Cardiovascular Disease Checkup')\n",
        "st.sidebar.header('Patient Data')"
      ],
      "metadata": {
        "id": "fA6P64eWXlQj"
      },
      "execution_count": null,
      "outputs": []
    },
    {
      "cell_type": "code",
      "source": [
        "normal_ranges = {\n",
        "    'Age': \"Age in years. Risk increases with age, particularly after 45 for men and 55 for women.\",\n",
        "    'Trestbps': \"Normal: <120 mmHg\\n\\nElevated: 120-129 mmHg\\n\\nStage 1: 130-139 mmHg\\n\\nStage 2: ≥140 mmHg\\n\\nCrisis: >180 mmHg\",\n",
        "    'Chol': \"Normal: <200 mg/dL\\n\\nBorderline: 200-239 mg/dL\\n\\nHigh: ≥240 mg/dL\\n\\nVery High: ≥300 mg/dL\",\n",
        "    'Thalach': \"Maximum heart rate varies by age.\\n\\nEstimated max = 220 - age.\",\n",
        "    'Oldpeak': \"Normal: <0.5 mm\\n\\nBorderline: 0.5-1.0 mm\\n\\nAbnormal: >1.0 mm\\n\\nSeverely Abnormal: >2.0 mm\",\n",
        "    'Ca': \"Normal: 0 vessels\\n\\nMild-Moderate: 1-2 vessels\\n\\nSevere: 3-4 vessels\"\n",
        "}"
      ],
      "metadata": {
        "id": "tDIfVbBqXlSy"
      },
      "execution_count": null,
      "outputs": []
    },
    {
      "cell_type": "code",
      "source": [
        "def user_report():\n",
        "    age = st.sidebar.number_input('Age (years)', min_value=20, max_value=100, value=45, step=1)\n",
        "\n",
        "    sex = st.sidebar.radio('Sex', [0, 1], format_func=lambda x: 'Female' if x == 0 else 'Male')\n",
        "\n",
        "    cp = st.sidebar.selectbox('Chest Pain Type', [0, 1, 2, 3],\n",
        "                             format_func=lambda x: ['Typical Angina', 'Atypical Angina', 'Non-anginal Pain', 'Asymptomatic'][x])\n",
        "\n",
        "    trestbps = st.sidebar.number_input('Resting Blood Pressure (mmHg)', min_value=90, max_value=240, value=120, step=1)\n",
        "    if trestbps > 180:\n",
        "        st.sidebar.warning(\"Blood pressure above 180 mmHg indicates hypertensive crisis\")\n",
        "\n",
        "    chol = st.sidebar.number_input('Cholesterol (mg/dL)', min_value=120, max_value=600, value=200, step=1)\n",
        "    if chol > 300:\n",
        "        st.sidebar.warning(\"Cholesterol above 300 mg/dL indicates very high risk\")\n",
        "\n",
        "    fbs = st.sidebar.radio('Fasting Blood Sugar > 120 mg/dL', [0, 1], format_func=lambda x: 'No' if x == 0 else 'Yes')\n",
        "\n",
        "    restecg = st.sidebar.selectbox('Resting ECG', [0, 1, 2],\n",
        "                                  format_func=lambda x: ['Normal', 'ST-T Wave Abnormality', 'Left Ventricular Hypertrophy'][x])\n",
        "\n",
        "    thalach = st.sidebar.number_input('Maximum Heart Rate', min_value=60, max_value=220, value=150, step=1)\n",
        "\n",
        "    exang = st.sidebar.radio('Exercise Induced Angina', [0, 1], format_func=lambda x: 'No' if x == 0 else 'Yes')\n",
        "\n",
        "    oldpeak = st.sidebar.number_input('ST Depression', min_value=0.0, max_value=10.0, value=1.0, step=0.1)\n",
        "    if oldpeak > 4.0:\n",
        "        st.sidebar.warning(\"ST depression above 4.0 mm indicates severe ischemia\")\n",
        "\n",
        "    slope = st.sidebar.selectbox('Slope of ST Segment', [0, 1, 2],\n",
        "                                format_func=lambda x: ['Upsloping', 'Flat', 'Downsloping'][x])\n",
        "\n",
        "    ca = st.sidebar.number_input('Number of Major Vessels', min_value=0, max_value=4, value=0, step=1)\n",
        "\n",
        "    thal = st.sidebar.selectbox('Thalassemia', [0, 1, 2, 3],\n",
        "                               format_func=lambda x: ['NULL', 'Fixed Defect', 'Normal', 'Reversible Defect'][x])\n",
        "\n",
        "    user_report = {\n",
        "        'age': age,\n",
        "        'sex': sex,\n",
        "        'cp': cp,\n",
        "        'trestbps': trestbps,\n",
        "        'chol': chol,\n",
        "        'fbs': fbs,\n",
        "        'restecg': restecg,\n",
        "        'thalach': thalach,\n",
        "        'exang': exang,\n",
        "        'oldpeak': oldpeak,\n",
        "        'slope': slope,\n",
        "        'ca': ca,\n",
        "        'thal': thal\n",
        "    }\n",
        "    return pd.DataFrame(user_report, index=[0])\n"
      ],
      "metadata": {
        "id": "yicCqEpeXlVy"
      },
      "execution_count": null,
      "outputs": []
    },
    {
      "cell_type": "code",
      "source": [
        "user_data = user_report()"
      ],
      "metadata": {
        "id": "75sTJiq_Yaf7"
      },
      "execution_count": null,
      "outputs": []
    },
    {
      "cell_type": "code",
      "source": [
        "st.subheader('Patient Data')\n",
        "st.write(user_data)"
      ],
      "metadata": {
        "id": "PvylB_HBYai_"
      },
      "execution_count": null,
      "outputs": []
    },
    {
      "cell_type": "code",
      "source": [
        "st.subheader('Patient Data Visualization')\n",
        "user_data_transposed = user_data.T\n",
        "st.bar_chart(user_data_transposed)"
      ],
      "metadata": {
        "id": "mOrNmJFBYami"
      },
      "execution_count": null,
      "outputs": []
    },
    {
      "cell_type": "code",
      "source": [
        "def clinical_assessment(data):\n",
        "    assessment = {}\n",
        "\n",
        "    bp_value = data['trestbps'][0]\n",
        "    bp_assessment = []\n",
        "    if bp_value < 120:\n",
        "        bp_assessment.append(\"Normal\")\n",
        "    if 120 <= bp_value < 130:\n",
        "        bp_assessment.append(\"Elevated\")\n",
        "    if 130 <= bp_value < 140:\n",
        "        bp_assessment.append(\"Hypertension Stage 1\")\n",
        "    if 140 <= bp_value < 180:\n",
        "        bp_assessment.append(\"Hypertension Stage 2\")\n",
        "    if bp_value >= 180:\n",
        "        bp_assessment.append(\"Hypertensive Crisis - Medical emergency\")\n",
        "    assessment['Blood Pressure'] = \"\\n\".join(bp_assessment)\n",
        "\n",
        "    chol_value = data['chol'][0]\n",
        "    chol_assessment = []\n",
        "    if chol_value < 200:\n",
        "        chol_assessment.append(\"Desirable level\")\n",
        "    if 200 <= chol_value < 240:\n",
        "        chol_assessment.append(\"Borderline high\")\n",
        "    if 240 <= chol_value < 300:\n",
        "        chol_assessment.append(\"High - Increased cardiovascular risk\")\n",
        "    if chol_value >= 300:\n",
        "        chol_assessment.append(\"Very high - Significant cardiovascular risk\")\n",
        "    assessment['Cholesterol'] = \"\\n\".join(chol_assessment)\n",
        "\n",
        "    st_value = data['oldpeak'][0]\n",
        "    st_assessment = []\n",
        "    if st_value < 0.5:\n",
        "        st_assessment.append(\"Normal\")\n",
        "    if 0.5 <= st_value < 1.0:\n",
        "        st_assessment.append(\"Borderline\")\n",
        "    if 1.0 <= st_value < 2.0:\n",
        "        st_assessment.append(\"Abnormal - Indicative of ischemia\")\n",
        "    if st_value >= 2.0:\n",
        "        st_assessment.append(\"Severely abnormal - High likelihood of coronary disease\")\n",
        "    assessment['ST Depression'] = \"\\n\".join(st_assessment)\n",
        "\n",
        "    ca_value = data['ca'][0]\n",
        "    ca_assessment = []\n",
        "    if ca_value == 0:\n",
        "        ca_assessment.append(\"Normal - No significant vessel disease\")\n",
        "    if 1 <= ca_value <= 2:\n",
        "        ca_assessment.append(\"Mild to moderate coronary artery disease\")\n",
        "    if ca_value >= 3:\n",
        "        ca_assessment.append(\"Severe coronary artery disease\")\n",
        "    assessment['Major Vessels'] = \"\\n\".join(ca_assessment)\n",
        "\n",
        "    return assessment\n"
      ],
      "metadata": {
        "id": "nHdoTj-jXlYY"
      },
      "execution_count": null,
      "outputs": []
    },
    {
      "cell_type": "code",
      "source": [
        "st.subheader('Clinical Assessment')\n",
        "assessment = clinical_assessment(user_data)\n",
        "for param, status in assessment.items():\n",
        "    st.write(f\"**{param}**:\\n{status}\")\n"
      ],
      "metadata": {
        "id": "4iRQIHTHYl2B"
      },
      "execution_count": null,
      "outputs": []
    },
    {
      "cell_type": "code",
      "source": [
        "user_result = rf.predict(user_data)"
      ],
      "metadata": {
        "id": "vwrQ7JJxYl5j"
      },
      "execution_count": null,
      "outputs": []
    },
    {
      "cell_type": "code",
      "source": [
        "st.subheader('Report: ')\n",
        "output = 'Heart Disease Detected' if user_result[0] == 1 else 'No Heart Disease Detected'\n",
        "st.title(output)"
      ],
      "metadata": {
        "id": "ExL1NkXmYq2Q"
      },
      "execution_count": null,
      "outputs": []
    },
    {
      "cell_type": "code",
      "source": [
        "st.subheader('Accuracy: ')\n",
        "st.write(f\"{accuracy_score(y_test, rf.predict(x_test)) * 100:.2f}%\")"
      ],
      "metadata": {
        "id": "MZYxKs-dYq8C"
      },
      "execution_count": null,
      "outputs": []
    },
    {
      "cell_type": "code",
      "source": [
        "st.markdown(\"---\")\n",
        "st.markdown(\"## Clinical Reference Ranges\")\n",
        "for param, range_value in normal_ranges.items():\n",
        "    st.markdown(f\"#### {param}\")\n",
        "    st.write(range_value)"
      ],
      "metadata": {
        "id": "sNdDzoYoYv16"
      },
      "execution_count": null,
      "outputs": []
    },
    {
      "cell_type": "code",
      "source": [
        "st.markdown(\"---\")\n",
        "st.warning(\"**Medical Disclaimer**: This tool provides an estimate based on statistical models and should not replace professional medical advice. Always consult with a healthcare provider for proper diagnosis and treatment.\")"
      ],
      "metadata": {
        "id": "LntX_C8wXlb8"
      },
      "execution_count": null,
      "outputs": []
    }
  ]
}